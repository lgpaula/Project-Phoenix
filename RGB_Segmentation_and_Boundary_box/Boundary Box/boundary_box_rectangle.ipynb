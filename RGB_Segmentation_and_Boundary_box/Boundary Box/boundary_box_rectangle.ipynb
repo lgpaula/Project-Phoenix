{
 "cells": [
  {
   "cell_type": "code",
   "execution_count": null,
   "metadata": {},
   "outputs": [],
   "source": [
    "#https://gist.github.com/bigsnarfdude/d811e31ee17495f82f10db12651ae82d\n",
    "import cv2\n",
    "import numpy as np \n",
    " \n",
    "# read and scale down image\n",
    "# wget https://bigsnarf.files.wordpress.com/2017/05/hammer.png\n",
    "img = cv2.imread('rgb_seg_fire.png', cv2.IMREAD_UNCHANGED)\n",
    " \n",
    "# threshold image\n",
    "ret, threshed_img = cv2.threshold(cv2.cvtColor(img, cv2.COLOR_BGR2GRAY), 6, 255, cv2.THRESH_BINARY)\n",
    "# find contours and get the external one\n",
    "_, contours, hier = cv2.findContours(threshed_img, cv2.RETR_EXTERNAL, cv2.CHAIN_APPROX_SIMPLE)\n",
    " \n",
    "# with each contour, draw boundingRect in green\n",
    "# a minAreaRect in red and\n",
    "# a minEnclosingCircle in blue\n",
    "for c in contours:\n",
    "    # get the bounding rect\n",
    "    x, y, w, h = cv2.boundingRect(c)\n",
    "   # draw a green rectangle to visualize the bounding rect\n",
    "    cv2.rectangle(img, (x, y), (x+w, y+h), (0, 255, 0), 1)\n",
    "    #print(len(contours))\n",
    "    #print(x,y,h,w)\n",
    "    \n",
    "#print (contours[1])\n",
    "#print (contours[3])\n",
    "#cv2.drawContours(img, contours, -1, (255, 255, 0), 1)\n",
    " \n",
    "cv2.imshow(\"contours\", img)\n",
    " \n",
    "ESC = 27\n",
    "while True:\n",
    "    k = cv2.waitKey(5) & 0xFF\n",
    "    if k == 27:\n",
    "        break\n",
    "        \n",
    "cv2.destroyAllWindows()"
   ]
  },
  {
   "cell_type": "code",
   "execution_count": null,
   "metadata": {},
   "outputs": [],
   "source": []
  }
 ],
 "metadata": {
  "kernelspec": {
   "display_name": "Python 3",
   "language": "python",
   "name": "python3"
  },
  "language_info": {
   "codemirror_mode": {
    "name": "ipython",
    "version": 3
   },
   "file_extension": ".py",
   "mimetype": "text/x-python",
   "name": "python",
   "nbconvert_exporter": "python",
   "pygments_lexer": "ipython3",
   "version": "3.6.5"
  }
 },
 "nbformat": 4,
 "nbformat_minor": 2
}

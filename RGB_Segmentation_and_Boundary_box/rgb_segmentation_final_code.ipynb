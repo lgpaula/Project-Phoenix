#Import opencv and numpy (calling them as cv2 and np)\n
import cv2
import numpy as np
#Import video using opencv and name it as cap
cap = cv2.VideoCapture('ForestFire1.avi')
cap = cv2.imread('forest_fire.png')
#This loop ensures that we read frame by frame, where the frame is just an image from the video. Each image is proccessed
while(1):
    # cap.read gives you an array, we ignore the first part of the array and assign the second part to the varible frame
    _, frame = cap.read()
    # we create the histogram
    hsv = cv2.cvtColor(frame, cv2.COLOR_BGR2HSV)
        # create the range we want
    lower = np.array([0, 100, 100])
    upper = np.array([50, 255, 255])
    # mask is the image without the pixels that are not in the range we want
    mask = cv2.inRange(hsv, lower, upper)
    # if pixel was removed from varible mask is black, if pixel in mask and frame(original image) is same, then it is replaced with white
    res = cv2.bitwise_and(frame,frame, mask= mask)
        # threshold image
    ret, threshed_img = cv2.threshold(cv2.cvtColor(res, cv2.COLOR_BGR2GRAY), 6, 255, cv2.THRESH_BINARY)
    # find contours and get the external one
    _, contours, hier = cv2.findContours(threshed_img, cv2.RETR_EXTERNAL, cv2.CHAIN_APPROX_SIMPLE)
    # with each contour, draw boundingRect in blue a minAreaRect in red and a minEnclosingCircle in blue
    for c in contours:
        # get the bounding rect
        x, y, w, h = cv2.boundingRect(c)
        # draw a blue rectangle to visualize the bounding rect  BGR
        cv2.rectangle(frame, (x, y), (x+w, y+h), (255, 0, 0), 2)
        #print(len(contours)) print(x,y,h,w)
            #print (contours[1])   print (contours[3])   cv2.drawContours(img, contours, -1, (255, 255, 0), 1)
    # Calculate Frames per second (FPS)
    fps = cap.get(cv2.CAP_PROP_FPS)
    # Display FPS on frame
    cv2.putText(frame, \"FPS : \" + str(int(fps)), (100,50), cv2.FONT_HERSHEY_SIMPLEX, 0.75, (0,0,255), 2);
    
    #cv2.imshow(\"Mask\",mask)
    #cv2.imshow('Res[extract black/white]',res)
    cv2.imshow(\"Original\", cap)
    cv2.imshow(\"contours\", frame)
    #wait 5 miliseconds (not realy sure why, but seems either if u press the key it stops, or it's just a delay)
    k = cv2.waitKey(5) & 0xFF
    if k == 27:\n
        break

cv2.destroyAllWindows()\n
cap.release()

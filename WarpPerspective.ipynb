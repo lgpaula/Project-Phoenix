{
 "cells": [
  {
   "cell_type": "code",
   "execution_count": 13,
   "metadata": {},
   "outputs": [
    {
     "name": "stdout",
     "output_type": "stream",
     "text": [
      "(384, 683, 3)\n",
      "(198, 302)\n",
      "(182, 127)\n",
      "(514, 97)\n",
      "(530, 272)\n"
     ]
    }
   ],
   "source": [
    "#import these stuff\n",
    "import cv2\n",
    "import numpy as np\n",
    "import matplotlib.pyplot as plt\n",
    "\n",
    "#read the image\n",
    "frame = cv2.pyrDown(cv2.imread('shot1.png'))\n",
    "\n",
    "#creates a kernel and \"close\" the image - dilation followed by erosion\n",
    "hsv = cv2.cvtColor(frame, cv2.COLOR_BGR2HSV)\n",
    "kernel = np.ones((9,9),np.uint8)\n",
    "closing = cv2.morphologyEx(hsv, cv2.MORPH_CLOSE, kernel)\n",
    "\n",
    "#find the size of the frame. Not really used anywhere\n",
    "print (frame.shape)\n",
    "#(y,x,ch) = (frame.shape)\n",
    "\n",
    "#creates the array threshold color thingy\n",
    "lower = np.array([0,0,0])\n",
    "upper = np.array([255,255,150])\n",
    "\n",
    "#create a mask - B&W picture of the frame and invert the colors\n",
    "mask = cv2.inRange(closing, lower, upper)\n",
    "mask = 255 - mask\n",
    "\n",
    "#get the contours of the image\n",
    "image, contours, hier = cv2.findContours(mask, cv2.RETR_EXTERNAL, cv2.CHAIN_APPROX_SIMPLE)\n",
    "\n",
    "#gets the largest aread contour, creates the minimal area rectangle and draw the contours\n",
    "c = max(contours, key = cv2.contourArea)\n",
    "rect = cv2.minAreaRect(c)\n",
    "box = cv2.boxPoints(rect)\n",
    "box = np.int0(box)\n",
    "cv2.drawContours(frame, [box], 0, (255))\n",
    "\n",
    "#creates 2 empty arrays for later use\n",
    "arrayx = []\n",
    "arrayy = []\n",
    "\n",
    "#for each corner of the rectangle, print the (x,y) positions and append in those arrays (x in one of them, y in the other)\n",
    "for p in box:\n",
    "    i = 0\n",
    "    pt = (p[i],p[i+1])\n",
    "    print (pt)\n",
    "    arrayx.append(p[i])\n",
    "    arrayy.append(p[i+1])\n",
    "\n",
    "#do the PerspectiveTransform and Warp the image\n",
    "#with the points in the arrays transformed into a standard squared image (400,400), cuz why not\n",
    "pts1 = np.float32([[arrayx[0],arrayy[0]],[arrayx[1],arrayy[1]],[arrayx[2],arrayy[2]],[arrayx[3],arrayy[3]]])\n",
    "pts2 = np.float32([[0,400],[0,0],[400,0],[400,400]])\n",
    "M = cv2.getPerspectiveTransform(pts1,pts2)\n",
    "warpd = cv2.warpPerspective(frame,M,(400,400))\n",
    "\n",
    "#show the original image (with the rectangle) and the warped image\n",
    "cv2.imshow('Original', frame)\n",
    "cv2.imshow('warped', warpd)\n",
    "#save the warped image to the computer, cuz why the fuck not\n",
    "cv2.imwrite('saved_image.png', warpd)\n",
    "\n",
    "#esc to close the windows (you know the drill)\n",
    "while True:\n",
    "    k = cv2.waitKey(5) & 0xFF\n",
    "    if k == 27:\n",
    "        break\n",
    "        \n",
    "cv2.destroyAllWindows()"
   ]
  },
  {
   "cell_type": "code",
   "execution_count": null,
   "metadata": {},
   "outputs": [],
   "source": []
  }
 ],
 "metadata": {
  "kernelspec": {
   "display_name": "Python 3",
   "language": "python",
   "name": "python3"
  }
 },
 "nbformat": 4,
 "nbformat_minor": 2
}

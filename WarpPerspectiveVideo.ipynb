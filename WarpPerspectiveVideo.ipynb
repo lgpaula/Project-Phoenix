#import opencv and numpy
import cv2
import numpy as np

#import the video
cap = cv2.VideoCapture('DJI_0077.mp4')

while(1):
    _, frame = cap.read()
    #creates a kernel and close the image - dilation followed by erosion
    hsv = cv2.cvtColor(frame, cv2.COLOR_BGR2HSV)
    kernel = np.ones((9,9),np.uint8)
    closing = cv2.morphologyEx(hsv, cv2.MORPH_CLOSE, kernel)
    
    #find the size of the frame
    print (frame.shape)
    #(y,x,ch) = (frame.shape)
    
    #creates the range we want
    lower = np.array([0,0,0])
    upper = np.array([255,255,150])
    
    #create a mask - B&W picture of the frame and invert the colors
    mask = cv2.inRange(closing, lower, upper)
    mask = 255 - mask
    
    #get the contours of the image
    image, contours, hier = cv2.findContours(mask, cv2.RETR_EXTERNAL, cv2.CHAIN_APPROX_SIMPLE)
    
    #gets the largest aread contour, creates the minimal area rectangle and draw the contours
    c = max(contours, key = cv2.contourArea)
    rect = cv2.minAreaRect(c)
    box = cv2.boxPoints(rect)
    box = np.int0(box)
    cv2.drawContours(frame, [box], 0, (255))
    
    #creates 2 empty arrays for later use
    arrayx = []
    arrayy = []
    
    for each corner of the rectangle, print the (x,y) positions and append in those arrays (x in one of them, y in the other)
    for p in box:
        i = 0
        pt = (p[i],p[i+1])
        print (pt)
        arrayx.append(p[i])
        arrayy.append(p[i+1])
    
    #do the PerspectiveTransform and Warp the image with the points in the arrays transformed into a standard squared image (400,400)
    pts1 = np.float32([[arrayx[0],arrayy[0]],[arrayx[1],arrayy[1]],[arrayx[2],arrayy[2]],[arrayx[3],arrayy[3]]])
    pts2 = np.float32([[0,400],[0,0],[400,0],[400,400]])
    M = cv2.getPerspectiveTransform(pts1,pts2)
    warpd = cv2.warpPerspective(frame,M,(400,400))
    
    #show the original video (with the rectangle) and the warped video
    cv2.imshow('Original', frame)
    cv2.imshow('warped', warpd)
        
    #esc to close the windows
    k = cv2.waitKey(5) & 0xFF
    if k == 27:
        break
    
    cv2.destroyAllWindows()
    cap.release()

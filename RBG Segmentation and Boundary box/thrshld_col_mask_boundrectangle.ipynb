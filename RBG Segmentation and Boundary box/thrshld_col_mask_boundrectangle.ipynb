{
 "cells": [
  {
   "cell_type": "code",
   "execution_count": 2,
   "metadata": {},
   "outputs": [
    {
     "ename": "TypeError",
     "evalue": "mat is not a numpy array, neither a scalar",
     "output_type": "error",
     "traceback": [
      "\u001b[1;31m---------------------------------------------------------------------------\u001b[0m",
      "\u001b[1;31mTypeError\u001b[0m                                 Traceback (most recent call last)",
      "\u001b[1;32m<ipython-input-2-bf73582da855>\u001b[0m in \u001b[0;36m<module>\u001b[1;34m\u001b[0m\n\u001b[0;32m     39\u001b[0m     \u001b[1;31m#cv2.imshow(\"Mask\",mask)\u001b[0m\u001b[1;33m\u001b[0m\u001b[1;33m\u001b[0m\u001b[0m\n\u001b[0;32m     40\u001b[0m     \u001b[1;31m#cv2.imshow('Res[extract black/white]',res)\u001b[0m\u001b[1;33m\u001b[0m\u001b[1;33m\u001b[0m\u001b[0m\n\u001b[1;32m---> 41\u001b[1;33m     \u001b[0mcv2\u001b[0m\u001b[1;33m.\u001b[0m\u001b[0mimshow\u001b[0m\u001b[1;33m(\u001b[0m\u001b[1;34m\"Original\"\u001b[0m\u001b[1;33m,\u001b[0m \u001b[0mcap\u001b[0m\u001b[1;33m)\u001b[0m\u001b[1;33m\u001b[0m\u001b[0m\n\u001b[0m\u001b[0;32m     42\u001b[0m     \u001b[0mcv2\u001b[0m\u001b[1;33m.\u001b[0m\u001b[0mimshow\u001b[0m\u001b[1;33m(\u001b[0m\u001b[1;34m\"contours\"\u001b[0m\u001b[1;33m,\u001b[0m \u001b[0mframe\u001b[0m\u001b[1;33m)\u001b[0m\u001b[1;33m\u001b[0m\u001b[0m\n\u001b[0;32m     43\u001b[0m     \u001b[1;31m#wait 5 miliseconds (not realy sure why, but seems either if u press the key it stops, or it's just a delay)\u001b[0m\u001b[1;33m\u001b[0m\u001b[1;33m\u001b[0m\u001b[0m\n",
      "\u001b[1;31mTypeError\u001b[0m: mat is not a numpy array, neither a scalar"
     ]
    }
   ],
   "source": [
    "#Import opencv and numpy (calling them as cv2 and np)\n",
    "import cv2\n",
    "import numpy as np\n",
    "#Import video using opencv and name it as cap\n",
    "cap = cv2.VideoCapture('forest_fire_youtube.mp4')\n",
    "#cap = cv2.imread('forest_fire.png')\n",
    "#This loop ensures that we read frame by frame, where the frame is just an image from the video. Each image is proccessed \n",
    "while(1):\n",
    "    # cap.read gives you an array, we ignore the first part of the array and assign the second part to the varible frame\n",
    "    _, frame = cap.read()\n",
    "    # we create the histogram\n",
    "    hsv = cv2.cvtColor(frame, cv2.COLOR_BGR2HSV)\n",
    "    # create the range we want \n",
    "    lower = np.array([0, 100, 100])\n",
    "    upper = np.array([50, 255, 255])\n",
    "    # mask is the image without the pixels that are not in the range we want\n",
    "    mask = cv2.inRange(hsv, lower, upper)\n",
    "    # if pixel was removed from varible mask is black, if pixel in mask and frame(original image) is same, then it is replaced with white\n",
    "    res = cv2.bitwise_and(frame,frame, mask= mask)\n",
    "    \n",
    "    # threshold image\n",
    "    ret, threshed_img = cv2.threshold(cv2.cvtColor(res, cv2.COLOR_BGR2GRAY), 6, 255, cv2.THRESH_BINARY)\n",
    "    # find contours and get the external one\n",
    "    _, contours, hier = cv2.findContours(threshed_img, cv2.RETR_EXTERNAL, cv2.CHAIN_APPROX_SIMPLE)\n",
    "    # with each contour, draw boundingRect in blue a minAreaRect in red and a minEnclosingCircle in blue\n",
    "    for c in contours:\n",
    "        # get the bounding rect\n",
    "        x, y, w, h = cv2.boundingRect(c)\n",
    "        # draw a blue rectangle to visualize the bounding rect  BGR\n",
    "        cv2.rectangle(frame, (x, y), (x+w, y+h), (255, 0, 0), 2)\n",
    "        #print(len(contours)) print(x,y,h,w)\n",
    "        \n",
    "    #print (contours[1])   print (contours[3])   cv2.drawContours(img, contours, -1, (255, 255, 0), 1)\n",
    "    # Calculate Frames per second (FPS)\n",
    "    fps = cap.get(cv2.CAP_PROP_FPS)\n",
    "    # Display FPS on frame\n",
    "    cv2.putText(frame, \"FPS : \" + str(int(fps)), (100,50), cv2.FONT_HERSHEY_SIMPLEX, 0.75, (0,0,255), 2);\n",
    "    ww\n",
    "    #cv2.imshow(\"Mask\",mask)\n",
    "    #cv2.imshow('Res[extract black/white]',res)\n",
    "    #cv2.imshow(\"Original\", cap)\n",
    "    cv2.imshow(\"contours\", frame)\n",
    "    #wait 5 miliseconds (not realy sure why, but seems either if u press the key it stops, or it's just a delay)\n",
    "    k = cv2.waitKey(5) & 0xFF\n",
    "    if k == 27:\n",
    "        break\n",
    "\n",
    "cv2.destroyAllWindows()\n",
    "cap.release()"
   ]
  },
  {
   "cell_type": "code",
   "execution_count": null,
   "metadata": {},
   "outputs": [],
   "source": []
  }
 ],
 "metadata": {
  "kernelspec": {
   "display_name": "Python 3",
   "language": "python",
   "name": "python3"
  },
  "language_info": {
   "codemirror_mode": {
    "name": "ipython",
    "version": 3
   },
   "file_extension": ".py",
   "mimetype": "text/x-python",
   "name": "python",
   "nbconvert_exporter": "python",
   "pygments_lexer": "ipython3",
   "version": "3.6.5"
  }
 },
 "nbformat": 4,
 "nbformat_minor": 2
}

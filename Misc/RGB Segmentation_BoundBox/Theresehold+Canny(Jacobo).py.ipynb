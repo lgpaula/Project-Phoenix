{
 "cells": [
  {
   "cell_type": "code",
   "execution_count": 7,
   "metadata": {},
   "outputs": [],
   "source": [
    "#Import opencv and numpy (calling them as cv2 and np)\n",
    "import cv2\n",
    "import numpy as np\n",
    "#Import video using opencv and name it as cap\n",
    "cap = cv2.VideoCapture('forest_fire_youtube.mp4')\n",
    "#cap = cv2.imread('DJI_0136.jpg')\n",
    "#This loop ensures that we read frame by frame, where the frame is just an image from the video. Each image is proccessed \n",
    "while(1):\n",
    "    # cap.read gives you an array, we ignore the first part of the array and assign the second part to the varible frame\n",
    "    _, frame = cap.read()\n",
    "    # we create the histogram\n",
    "    hsv = cv2.cvtColor(frame, cv2.COLOR_BGR2HSV)\n",
    "    # create the range we want \n",
    "    lower = np.array([0, 100, 100])\n",
    "    upper = np.array([50, 255, 255])\n",
    "    # mask is the image without the pixels that are not in the range we want\n",
    "    mask = cv2.inRange(hsv, lower, upper)\n",
    "    # if pixel was removed from varible mask is black, if pixel in mask and frame(original image) is same, then it is replaced with white\n",
    "    res = cv2.bitwise_and(frame,frame, mask= mask)\n",
    "\n",
    "    #cv2.imshow('Original',frame)\n",
    "    #Extract canny edge\n",
    "    edges = cv2.Canny(mask,50,100)\n",
    "\n",
    "    cv2.imshow('Original',frame)\n",
    "    cv2.imshow('Mask[extract color]',mask)\n",
    "    cv2.imshow('Res[extract black/white]',res)\n",
    "    cv2.imshow('Canny Edge',edges)\n",
    "    #wait 5 miliseconds (not realy sure why, but seems either if u press the key it stops, or it's just a delay)\n",
    "    k = cv2.waitKey(5) & 0xFF\n",
    "    if k == 27:\n",
    "        break\n",
    "\n",
    "\n",
    "cv2.destroyAllWindows()\n",
    "cap.release()"
   ]
  },
  {
   "cell_type": "code",
   "execution_count": null,
   "metadata": {},
   "outputs": [],
   "source": []
  }
 ],
 "metadata": {
  "kernelspec": {
   "display_name": "Python 3",
   "language": "python",
   "name": "python3"
  },
  "language_info": {
   "codemirror_mode": {
    "name": "ipython",
    "version": 3
   },
   "file_extension": ".py",
   "mimetype": "text/x-python",
   "name": "python",
   "nbconvert_exporter": "python",
   "pygments_lexer": "ipython3",
   "version": "3.6.5"
  }
 },
 "nbformat": 4,
 "nbformat_minor": 2
}
